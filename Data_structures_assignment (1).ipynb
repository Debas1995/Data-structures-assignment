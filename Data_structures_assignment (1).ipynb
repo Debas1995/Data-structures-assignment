{
  "nbformat": 4,
  "nbformat_minor": 0,
  "metadata": {
    "colab": {
      "provenance": []
    },
    "kernelspec": {
      "name": "python3",
      "display_name": "Python 3"
    },
    "language_info": {
      "name": "python"
    }
  },
  "cells": [
    {
      "cell_type": "markdown",
      "source": [
        "#**Theoretical** **question**"
      ],
      "metadata": {
        "id": "2SdeVo_MqI-9"
      }
    },
    {
      "cell_type": "markdown",
      "source": [
        "# Q1. What are data structures, and why are they important?\n",
        "\n",
        "* The Importance of Understanding Data Structures\n",
        "Data structures are formats that organize, store, and process data in a computer system.\n",
        "\n",
        "*   They are important because,\n",
        "\n",
        "1. Data Handling\n",
        "2. Organization\n",
        "3. efficiency\n",
        "4. Real-Word Analogy  \n",
        "\n",
        "\n",
        "\n",
        "\n",
        "\n",
        "\n",
        "\n",
        "\n",
        "\n",
        "\n",
        "\n",
        "\n",
        "\n",
        "\n"
      ],
      "metadata": {
        "id": "M0x8iKn9qizb"
      }
    },
    {
      "cell_type": "markdown",
      "source": [
        "# Q2.  Explain the difference between mutable and immutable data types with examples.\n",
        "\n",
        "*   Mutable Data types: These data types can be modified after they are created. For example, in Python, lists, dictionaries, and sets are mutable data types.\n",
        "*   Immutable Data Types: These data types cannot be changed after they are created. For example, in Python, strings, tuples, integers, and floats are immutable data types.\n",
        "\n"
      ],
      "metadata": {
        "id": "zqgCDwkpshN-"
      }
    },
    {
      "cell_type": "markdown",
      "source": [
        "# Q3.  What are the main differences between lists and tuples in Python?\n",
        "\n",
        "#Mutability\n",
        "Lists: Mutable, meaning they can be changed,  \n",
        "Tuples: Immutable, meaning they cannot be changed\n",
        "#Syntax\n",
        "Lists: Use square brackets,\n",
        "Tuples: Use round brackets or parenthesis\n",
        "#Performance\n",
        "Tuples: Use less memory and are faster to access than lists\n",
        "#Use cases\n",
        "Lists: Useful for deletion and insertion operations,\n",
        "Tuples: Useful for read-only operations, such as accessing elements\n",
        "#Other differences\n",
        "Lists have a dynamic length, while tuples have a fixed length.\n",
        "Lists have more built-in methods than tuples.\n",
        "Lists can be nested in other lists, and tuples can be nested in other tuples  \n",
        "\n",
        "\n"
      ],
      "metadata": {
        "id": "UAHzBfEUtcv2"
      }
    },
    {
      "cell_type": "markdown",
      "source": [
        "# Q4. Describe how dictionaries store data?\n",
        "\n",
        "*   Dictionaries are used to store data values in key:value pairs.\n",
        "\n",
        "\n"
      ],
      "metadata": {
        "id": "3K5ElcbsvWE_"
      }
    },
    {
      "cell_type": "markdown",
      "source": [
        "# Q5. Why might you use a set instead of a list in Python?\n",
        "\n",
        "*   Use a set instead of a list because set is an unordered collection of unique element, meaning a set does not allow any duplicate element.\n",
        "\n",
        "\n"
      ],
      "metadata": {
        "id": "eHY8EX5qvvU6"
      }
    },
    {
      "cell_type": "markdown",
      "source": [
        "# Q6. What is a string in Python, and how is it different from a list?\n",
        "\n",
        "*   A string is a sequence of characters between single or double quotes.\n",
        "\n",
        "*   A string is a sequence of characters and a list is a sequence of items  where each item could be anything (an integer, a float, a string, etc).\n",
        "\n",
        "\n"
      ],
      "metadata": {
        "id": "_Xc2NpJjwsid"
      }
    },
    {
      "cell_type": "markdown",
      "source": [
        "#Q7. How do tuples ensure data integrity in Python?\n",
        "\n",
        "*   Tuples are immutable to ensure that their contents remain constant throughout their lifecycle.\n",
        "\n"
      ],
      "metadata": {
        "id": "T_oAlItWxgpm"
      }
    },
    {
      "cell_type": "markdown",
      "source": [
        "# Q8. What is a hash table, and how does it relate to dictionaries in Python?\n",
        "\n",
        "*    A hash table is a data structure that stores key-value pairs in an associative array.\n",
        "*   In Python, a dictionary is a data type that implements a hash table.\n",
        "\n"
      ],
      "metadata": {
        "id": "O2CFAylqx04c"
      }
    },
    {
      "cell_type": "markdown",
      "source": [
        "# Q9. Can lists contain different data types in Python?\n",
        "\n",
        "*   A list can also contain a mix of Python types including strings, floats, and booleans.\n",
        "\n"
      ],
      "metadata": {
        "id": "8DbDRKzPzHQ8"
      }
    },
    {
      "cell_type": "markdown",
      "source": [
        "# Q10. Explain why strings are immutable in Python?\n",
        "\n",
        "*   Strings Are immutable because, they cannot be changed after they are created.\n",
        "\n"
      ],
      "metadata": {
        "id": "F3zoBKpm1ebi"
      }
    },
    {
      "cell_type": "markdown",
      "source": [
        "# Q11. What advantages do dictionaries offer over lists for certain tasks?\n",
        "\n",
        "*   Dictionary is more efficient to use for the searching of elements as it can be carried out in a much faster manner than list.\n",
        "\n"
      ],
      "metadata": {
        "id": "DZzPnc5d18av"
      }
    },
    {
      "cell_type": "markdown",
      "source": [
        "# Q12. Describe a scenario where using a tuple would be preferable over a list?\n",
        "\n",
        "*   Tuples Are immutable so for stored a fixed data like Employee id we prefer tuple over list.\n",
        "\n"
      ],
      "metadata": {
        "id": "6kyliPkE2__q"
      }
    },
    {
      "cell_type": "markdown",
      "source": [
        "# Q13.  How do sets handle duplicate values in Python?\n",
        "\n",
        "*   Sets are unordered collection of unique elements, so it is not allowed any duplicate value atomatic erase that duplicate value.\n",
        "\n"
      ],
      "metadata": {
        "id": "hCheq9qR4CUJ"
      }
    },
    {
      "cell_type": "markdown",
      "source": [
        "# Q14. How does the “in” keyword work differently for lists and dictionaries?\n",
        "\n",
        "*   When used with a list, the \"in\" keyword checks if a particular value exists as an element in the list.\n",
        "\n",
        "*   When used with a dictionary, the \"in\" keyword checks if a particular key exists in the dictionary (not values).\n",
        "\n",
        "\n",
        "\n"
      ],
      "metadata": {
        "id": "6yA04-Tb6fFA"
      }
    },
    {
      "cell_type": "markdown",
      "source": [
        "# Q15. Can you modify the elements of a tuple? Explain why or why not.\n",
        "\n",
        "*   No, we can not modify the elements of tuple are immutable, these are not changeble.\n",
        "\n",
        "\n"
      ],
      "metadata": {
        "id": "Dw304BfF6FjO"
      }
    },
    {
      "cell_type": "markdown",
      "source": [
        "# Q16. What is a nested dictionary, and give an example of its use case.\n",
        "\n",
        "*   A nested dictionary is a dictionary inside another dictionary. It allows hierarchical storage of data, making it useful for representing complex structures.\n",
        "\n",
        "*   USE CASE:-\n",
        " 1. Storing Data in Structured Form\n",
        " 2. Config Files and Settings Storage\n",
        "\n",
        "\n"
      ],
      "metadata": {
        "id": "2sgR95r27Ex6"
      }
    },
    {
      "cell_type": "markdown",
      "source": [
        "# Q17. Describe the time complexity of accessing elements in a dictionary.\n",
        "\n",
        "*   In Python, dictionaries are implemented using hash tables, making element access highly efficient. The time complexity for accessing elements in a dictionary depends on the operation:\n",
        "\n",
        "1. Accessing a Value by Key\n",
        "2. Checking Key Existence (in Operator)\n",
        "3. Iterating Over a Dictionary\n",
        "\n",
        "\n",
        "\n"
      ],
      "metadata": {
        "id": "vo1lOlPS8HgC"
      }
    },
    {
      "cell_type": "markdown",
      "source": [
        "# Q18.  In what situations are lists preferred over dictionaries?\n",
        "\n",
        "*   Situations are:\n",
        "1. Order matters.\n",
        "2. We need fast iteration.\n",
        "3. We need index-based access.\n",
        "4. Memory efficiency is important.\n",
        "5. Sorting and slicing are required.\n",
        "6. Duplicates are allowed.\n",
        "etc\n",
        "\n"
      ],
      "metadata": {
        "id": "-eo_r2yxEkVP"
      }
    },
    {
      "cell_type": "markdown",
      "source": [
        "# Q19.  Why are dictionaries considered unordered, and how does that affect data retrieval?\n",
        "\n",
        "*   Dictionaries in Python were traditionally considered unordered because they were implemented using hash tables, which store elements based on hash values, not insertion order.\n",
        "\n",
        "*  Unordered Nature Affect Data Retrieval:\n",
        "1. No Index-Based Access\n",
        "2. Iterating Order Was Unpredictable on pre 3.7 version of python.\n",
        "\n",
        "\n",
        "\n"
      ],
      "metadata": {
        "id": "c5r99AXvFlkn"
      }
    },
    {
      "cell_type": "markdown",
      "source": [
        "# Q20. Explain the difference between a list and a dictionary in terms of data retrieval.\n",
        "\n",
        "1. List data is accessed by index, which is an integer position.\n",
        "Dictionary data is accessed by key (not index), which can be a string, integer, or other hashable types.\n",
        "2. List always ordered. Elements are stored in the order in which they are inserted, and you can access them via their index.\n",
        " In dictionary order was not guaranteed until Python 3.7,\n",
        "\n"
      ],
      "metadata": {
        "id": "fCVfSvErKLYu"
      }
    },
    {
      "cell_type": "markdown",
      "source": [
        "# PRACTICAL QUESTIONS"
      ],
      "metadata": {
        "id": "CzwzjN7lMR6v"
      }
    },
    {
      "cell_type": "markdown",
      "source": [
        "# Q1. Write a code to create a string with your name and print it."
      ],
      "metadata": {
        "id": "FVyZ1K9rMcUO"
      }
    },
    {
      "cell_type": "code",
      "source": [
        "name= \"Debasish Chakraborty\"\n",
        "print(name); type(name)"
      ],
      "metadata": {
        "colab": {
          "base_uri": "https://localhost:8080/"
        },
        "id": "OqrUNJjmMuLO",
        "outputId": "2414a9ac-86d4-4931-baf8-f3bea8f1fbd2"
      },
      "execution_count": 1,
      "outputs": [
        {
          "output_type": "stream",
          "name": "stdout",
          "text": [
            "Debasish Chakraborty\n"
          ]
        },
        {
          "output_type": "execute_result",
          "data": {
            "text/plain": [
              "str"
            ]
          },
          "metadata": {},
          "execution_count": 1
        }
      ]
    },
    {
      "cell_type": "markdown",
      "source": [
        "# Q2. Write a code to find the length of the string \"Hello World\""
      ],
      "metadata": {
        "id": "j4-6OvqENaRD"
      }
    },
    {
      "cell_type": "code",
      "source": [
        "a= \"Hello World\"\n",
        "len(a)"
      ],
      "metadata": {
        "colab": {
          "base_uri": "https://localhost:8080/"
        },
        "id": "PbZpwN3XNi87",
        "outputId": "449c90e9-2440-441f-e722-480571ecd5f3"
      },
      "execution_count": 2,
      "outputs": [
        {
          "output_type": "execute_result",
          "data": {
            "text/plain": [
              "11"
            ]
          },
          "metadata": {},
          "execution_count": 2
        }
      ]
    },
    {
      "cell_type": "markdown",
      "source": [
        "# Q3. Write a code to slice the first 3 characters from the string \"Python Programming\"."
      ],
      "metadata": {
        "id": "CFxGr5KoNvlW"
      }
    },
    {
      "cell_type": "code",
      "source": [
        "a=\"Python Programming\"\n",
        "a[0:3]"
      ],
      "metadata": {
        "colab": {
          "base_uri": "https://localhost:8080/",
          "height": 36
        },
        "id": "pBDKKJwlN0CF",
        "outputId": "a6094415-d573-4e89-ce8f-4d25c03fbdde"
      },
      "execution_count": 3,
      "outputs": [
        {
          "output_type": "execute_result",
          "data": {
            "text/plain": [
              "'Pyt'"
            ],
            "application/vnd.google.colaboratory.intrinsic+json": {
              "type": "string"
            }
          },
          "metadata": {},
          "execution_count": 3
        }
      ]
    },
    {
      "cell_type": "markdown",
      "source": [
        "# Q4. Write a code to convert the string \"hello\" to uppercase."
      ],
      "metadata": {
        "id": "LFsZxpojOm9U"
      }
    },
    {
      "cell_type": "code",
      "source": [
        "b=\"hello\"\n",
        "b.upper()"
      ],
      "metadata": {
        "colab": {
          "base_uri": "https://localhost:8080/",
          "height": 36
        },
        "id": "r8QP9PFmOrGs",
        "outputId": "15793f6b-df26-48e4-d55e-96a88c193a8c"
      },
      "execution_count": 4,
      "outputs": [
        {
          "output_type": "execute_result",
          "data": {
            "text/plain": [
              "'HELLO'"
            ],
            "application/vnd.google.colaboratory.intrinsic+json": {
              "type": "string"
            }
          },
          "metadata": {},
          "execution_count": 4
        }
      ]
    },
    {
      "cell_type": "markdown",
      "source": [
        "# Q5. Write a code to replace the word \"apple\" with \"orange\" in the string \"I like apple\"."
      ],
      "metadata": {
        "id": "teS2WPYnPEA6"
      }
    },
    {
      "cell_type": "code",
      "source": [
        "a=\"I like apple\"\n",
        "b= a.replace(\"apple\",\"orange\")\n",
        "b"
      ],
      "metadata": {
        "colab": {
          "base_uri": "https://localhost:8080/",
          "height": 36
        },
        "id": "jUcP9ZxJQr7c",
        "outputId": "bfc1cb73-ffc4-45dc-d739-9188598f7094"
      },
      "execution_count": 5,
      "outputs": [
        {
          "output_type": "execute_result",
          "data": {
            "text/plain": [
              "'I like orange'"
            ],
            "application/vnd.google.colaboratory.intrinsic+json": {
              "type": "string"
            }
          },
          "metadata": {},
          "execution_count": 5
        }
      ]
    },
    {
      "cell_type": "markdown",
      "source": [
        "# Q6.  Write a code to create a list with numbers 1 to 5 and print it."
      ],
      "metadata": {
        "id": "KPC7F0NjRKkK"
      }
    },
    {
      "cell_type": "code",
      "source": [
        "numbers= [1,2,3,4,5]\n",
        "print(numbers); type(numbers)"
      ],
      "metadata": {
        "colab": {
          "base_uri": "https://localhost:8080/"
        },
        "id": "p86xNpcZROlJ",
        "outputId": "bdfa10aa-fb29-4fb8-fcb0-89bec5e9853b"
      },
      "execution_count": 6,
      "outputs": [
        {
          "output_type": "stream",
          "name": "stdout",
          "text": [
            "[1, 2, 3, 4, 5]\n"
          ]
        },
        {
          "output_type": "execute_result",
          "data": {
            "text/plain": [
              "list"
            ]
          },
          "metadata": {},
          "execution_count": 6
        }
      ]
    },
    {
      "cell_type": "markdown",
      "source": [
        "# Q7. Write a code to append the number 10 to the list [1, 2, 3, 4]."
      ],
      "metadata": {
        "id": "1XaXBbYHRgLO"
      }
    },
    {
      "cell_type": "code",
      "source": [
        "a=[1,2,3,4]\n",
        "a.append(10)\n",
        "print(a); type(a)"
      ],
      "metadata": {
        "colab": {
          "base_uri": "https://localhost:8080/"
        },
        "id": "ywL08iJTRyTA",
        "outputId": "1ee7ab50-f1b7-44f2-f3d0-89274764270b"
      },
      "execution_count": 7,
      "outputs": [
        {
          "output_type": "stream",
          "name": "stdout",
          "text": [
            "[1, 2, 3, 4, 10]\n"
          ]
        },
        {
          "output_type": "execute_result",
          "data": {
            "text/plain": [
              "list"
            ]
          },
          "metadata": {},
          "execution_count": 7
        }
      ]
    },
    {
      "cell_type": "markdown",
      "source": [
        "# Q8. Write a code to remove the number 3 from the list [1, 2, 3, 4, 5]."
      ],
      "metadata": {
        "id": "SUu1_u1vSH3y"
      }
    },
    {
      "cell_type": "code",
      "source": [
        "a= [1,2,3,4,5]\n",
        "a.remove(3)\n",
        "print(a);type(a)"
      ],
      "metadata": {
        "colab": {
          "base_uri": "https://localhost:8080/"
        },
        "id": "TOvdIwe6SWzV",
        "outputId": "7dce010f-347e-4957-da5c-fdaf242a7819"
      },
      "execution_count": 8,
      "outputs": [
        {
          "output_type": "stream",
          "name": "stdout",
          "text": [
            "[1, 2, 4, 5]\n"
          ]
        },
        {
          "output_type": "execute_result",
          "data": {
            "text/plain": [
              "list"
            ]
          },
          "metadata": {},
          "execution_count": 8
        }
      ]
    },
    {
      "cell_type": "markdown",
      "source": [
        "# Q9. Write a code to access the second element in the list ['a', 'b', 'c', 'd'].\n"
      ],
      "metadata": {
        "id": "LBPdi2x1SjAT"
      }
    },
    {
      "cell_type": "code",
      "source": [
        "my_list=[\"a\",\"b\",\"c\",\"d\"]\n",
        "my_list[1]"
      ],
      "metadata": {
        "colab": {
          "base_uri": "https://localhost:8080/",
          "height": 36
        },
        "id": "NiiZpUFvTEon",
        "outputId": "5316fb33-2d1c-4432-bc4f-9b1899e91822"
      },
      "execution_count": 10,
      "outputs": [
        {
          "output_type": "execute_result",
          "data": {
            "text/plain": [
              "'b'"
            ],
            "application/vnd.google.colaboratory.intrinsic+json": {
              "type": "string"
            }
          },
          "metadata": {},
          "execution_count": 10
        }
      ]
    },
    {
      "cell_type": "markdown",
      "source": [
        "# Q10. Write a code to reverse the list [10, 20, 30, 40, 50]."
      ],
      "metadata": {
        "id": "SfV4l1n6TlrX"
      }
    },
    {
      "cell_type": "code",
      "source": [
        "a=[10,20,30,40,50]\n",
        "a[::-1]"
      ],
      "metadata": {
        "colab": {
          "base_uri": "https://localhost:8080/"
        },
        "id": "Qtk33SezTzKo",
        "outputId": "bafcdd97-f2bb-4a3a-ecc7-73a0f1f7b7a9"
      },
      "execution_count": 13,
      "outputs": [
        {
          "output_type": "execute_result",
          "data": {
            "text/plain": [
              "[50, 40, 30, 20, 10]"
            ]
          },
          "metadata": {},
          "execution_count": 13
        }
      ]
    },
    {
      "cell_type": "markdown",
      "source": [
        "# Q11. Write a code to create a tuple with the elements 10, 20, 30 and print it."
      ],
      "metadata": {
        "id": "_hVZCBVSUI1I"
      }
    },
    {
      "cell_type": "code",
      "source": [
        "a=(10,20,30)\n",
        "print(a); type(a)"
      ],
      "metadata": {
        "colab": {
          "base_uri": "https://localhost:8080/"
        },
        "id": "rM100f7sUUs7",
        "outputId": "03ff02a4-dab6-4baa-e3c0-1a2287903ea4"
      },
      "execution_count": 14,
      "outputs": [
        {
          "output_type": "stream",
          "name": "stdout",
          "text": [
            "(10, 20, 30)\n"
          ]
        },
        {
          "output_type": "execute_result",
          "data": {
            "text/plain": [
              "tuple"
            ]
          },
          "metadata": {},
          "execution_count": 14
        }
      ]
    },
    {
      "cell_type": "markdown",
      "source": [
        "# Q12.  Write a code to access the first element of the tuple ('apple', 'banana', 'cherry')."
      ],
      "metadata": {
        "id": "y4PE9loCUiso"
      }
    },
    {
      "cell_type": "code",
      "source": [
        "my_code=('apple','banana','cherry')\n",
        "my_code[0]"
      ],
      "metadata": {
        "colab": {
          "base_uri": "https://localhost:8080/",
          "height": 36
        },
        "id": "VtqfTcqTUyT4",
        "outputId": "6668f1b9-9ba7-4c0a-f186-0a19281a1b25"
      },
      "execution_count": 16,
      "outputs": [
        {
          "output_type": "execute_result",
          "data": {
            "text/plain": [
              "'apple'"
            ],
            "application/vnd.google.colaboratory.intrinsic+json": {
              "type": "string"
            }
          },
          "metadata": {},
          "execution_count": 16
        }
      ]
    },
    {
      "cell_type": "markdown",
      "source": [
        "# Q13.  Write a code to count how many times the number 2 appears in the tuple (1, 2, 3, 2, 4, 2)."
      ],
      "metadata": {
        "id": "vlflXcbTVJV2"
      }
    },
    {
      "cell_type": "code",
      "source": [
        "a= (1,2,3,2,4,2)\n",
        "a.count(2)"
      ],
      "metadata": {
        "colab": {
          "base_uri": "https://localhost:8080/"
        },
        "id": "aiUOJ8YrVX4k",
        "outputId": "131a6569-9ce0-40c9-f68d-82fd5d97de6b"
      },
      "execution_count": 17,
      "outputs": [
        {
          "output_type": "execute_result",
          "data": {
            "text/plain": [
              "3"
            ]
          },
          "metadata": {},
          "execution_count": 17
        }
      ]
    },
    {
      "cell_type": "markdown",
      "source": [
        "# Q14. Write a code to find the index of the element \"cat\" in the tuple ('dog', 'cat', 'rabbit')."
      ],
      "metadata": {
        "id": "a8isRRMAVfxT"
      }
    },
    {
      "cell_type": "code",
      "source": [
        "a=('dog','cat','rabbit')\n",
        "a.index(\"cat\")"
      ],
      "metadata": {
        "colab": {
          "base_uri": "https://localhost:8080/"
        },
        "id": "2T7KxmsrVx_P",
        "outputId": "dd2986f9-9564-4a89-afe1-3ddfb8d55e57"
      },
      "execution_count": 18,
      "outputs": [
        {
          "output_type": "execute_result",
          "data": {
            "text/plain": [
              "1"
            ]
          },
          "metadata": {},
          "execution_count": 18
        }
      ]
    },
    {
      "cell_type": "markdown",
      "source": [
        "# Q15. Write a code to check if the element \"banana\" is in the tuple ('apple', 'orange', 'banana')."
      ],
      "metadata": {
        "id": "IjXdnaCoWEVN"
      }
    },
    {
      "cell_type": "code",
      "source": [
        "a= ('apple','orange','banana')\n",
        "if \"banana\" in a:\n",
        "  print(True)\n",
        "else:\n",
        "  print(False)"
      ],
      "metadata": {
        "colab": {
          "base_uri": "https://localhost:8080/"
        },
        "id": "Zh4szWh1WNMy",
        "outputId": "37b3000a-3b12-491c-8e15-663529dd9980"
      },
      "execution_count": 19,
      "outputs": [
        {
          "output_type": "stream",
          "name": "stdout",
          "text": [
            "True\n"
          ]
        }
      ]
    },
    {
      "cell_type": "markdown",
      "source": [
        "# Q16. Write a code to create a set with the elements 1, 2, 3, 4, 5 and print it."
      ],
      "metadata": {
        "id": "zAxciRWXWrpg"
      }
    },
    {
      "cell_type": "code",
      "source": [
        "a= {1,2,3,4,5}\n",
        "print(a);type(a)"
      ],
      "metadata": {
        "colab": {
          "base_uri": "https://localhost:8080/"
        },
        "id": "K2iykEdeW3dm",
        "outputId": "8703c565-2f4c-4b65-c882-6f9d20e86eee"
      },
      "execution_count": 22,
      "outputs": [
        {
          "output_type": "stream",
          "name": "stdout",
          "text": [
            "{1, 2, 3, 4, 5}\n"
          ]
        },
        {
          "output_type": "execute_result",
          "data": {
            "text/plain": [
              "set"
            ]
          },
          "metadata": {},
          "execution_count": 22
        }
      ]
    },
    {
      "cell_type": "markdown",
      "source": [
        "# Q17.  Write a code to add the element 6 to the set {1, 2, 3, 4}"
      ],
      "metadata": {
        "id": "-sbzOSR9XN4I"
      }
    },
    {
      "cell_type": "code",
      "source": [
        "a={1,2,3,4}\n",
        "a.add(6)\n",
        "print(a);type(a)"
      ],
      "metadata": {
        "colab": {
          "base_uri": "https://localhost:8080/"
        },
        "id": "UGRXwLTsXZqF",
        "outputId": "b0551135-4403-4e2e-c338-14e49ba2c58a"
      },
      "execution_count": 24,
      "outputs": [
        {
          "output_type": "stream",
          "name": "stdout",
          "text": [
            "{1, 2, 3, 4, 6}\n"
          ]
        },
        {
          "output_type": "execute_result",
          "data": {
            "text/plain": [
              "set"
            ]
          },
          "metadata": {},
          "execution_count": 24
        }
      ]
    },
    {
      "cell_type": "markdown",
      "source": [
        "# Q18. Write a code to create a tuple with the elements 10, 20, 30 and print it."
      ],
      "metadata": {
        "id": "wcCo5YpQXnVx"
      }
    },
    {
      "cell_type": "code",
      "source": [
        "a= (10,20,30)\n",
        "print(a); type(a)"
      ],
      "metadata": {
        "colab": {
          "base_uri": "https://localhost:8080/"
        },
        "id": "eIBxCSQhX1YB",
        "outputId": "b62ad847-f9f0-4f94-9488-de179d6d8be6"
      },
      "execution_count": 25,
      "outputs": [
        {
          "output_type": "stream",
          "name": "stdout",
          "text": [
            "(10, 20, 30)\n"
          ]
        },
        {
          "output_type": "execute_result",
          "data": {
            "text/plain": [
              "tuple"
            ]
          },
          "metadata": {},
          "execution_count": 25
        }
      ]
    },
    {
      "cell_type": "markdown",
      "source": [
        "# Q19. Write a code to access the first element of the tuple ('apple', 'banana', 'cherry')."
      ],
      "metadata": {
        "id": "Ml9gAzxOX9pd"
      }
    },
    {
      "cell_type": "code",
      "source": [
        "sentence= ('apple','banana','cherry')\n",
        "sentence[0]"
      ],
      "metadata": {
        "colab": {
          "base_uri": "https://localhost:8080/",
          "height": 36
        },
        "id": "T3FFXrEjYV5k",
        "outputId": "7aa1822b-f472-4d63-9846-984641cdc31b"
      },
      "execution_count": 26,
      "outputs": [
        {
          "output_type": "execute_result",
          "data": {
            "text/plain": [
              "'apple'"
            ],
            "application/vnd.google.colaboratory.intrinsic+json": {
              "type": "string"
            }
          },
          "metadata": {},
          "execution_count": 26
        }
      ]
    },
    {
      "cell_type": "markdown",
      "source": [
        "# Q20. Write a code to count how many times the number 2 appears in the tuple (1, 2, 3, 2, 4, 2)"
      ],
      "metadata": {
        "id": "KU5eZk6CYpDi"
      }
    },
    {
      "cell_type": "code",
      "source": [
        "num=(1,2,3,2,4,2)\n",
        "num.count(2)"
      ],
      "metadata": {
        "colab": {
          "base_uri": "https://localhost:8080/"
        },
        "id": "PEh47HN3Y1Dm",
        "outputId": "988b20a9-793f-49e7-d35a-c304cbfd3279"
      },
      "execution_count": 27,
      "outputs": [
        {
          "output_type": "execute_result",
          "data": {
            "text/plain": [
              "3"
            ]
          },
          "metadata": {},
          "execution_count": 27
        }
      ]
    },
    {
      "cell_type": "markdown",
      "source": [
        "# Q21.  Write a code to find the index of the element \"cat\" in the tuple ('dog', 'cat', 'rabbit')."
      ],
      "metadata": {
        "id": "ROd0uxprY9Z7"
      }
    },
    {
      "cell_type": "code",
      "source": [
        "a= ('dog','cat','rabbit')\n",
        "a.index(\"cat\")"
      ],
      "metadata": {
        "colab": {
          "base_uri": "https://localhost:8080/"
        },
        "id": "KHRNgWyjZFuI",
        "outputId": "cc72d6cb-ed0f-48fe-ac54-afdd43aa8e41"
      },
      "execution_count": 28,
      "outputs": [
        {
          "output_type": "execute_result",
          "data": {
            "text/plain": [
              "1"
            ]
          },
          "metadata": {},
          "execution_count": 28
        }
      ]
    },
    {
      "cell_type": "markdown",
      "source": [
        "# Q22.  Write a code to check if the element \"banana\" is in the tuple ('apple', 'orange', 'banana').\n",
        "\n"
      ],
      "metadata": {
        "id": "ZKBLmwJ5ZTsu"
      }
    },
    {
      "cell_type": "code",
      "source": [
        "code= ('apple','orange','banana')\n",
        "\"banana\" in code"
      ],
      "metadata": {
        "colab": {
          "base_uri": "https://localhost:8080/"
        },
        "id": "O2hl-Q5NZcmD",
        "outputId": "6b23651e-1b1c-4523-9aac-0262b86c281a"
      },
      "execution_count": 32,
      "outputs": [
        {
          "output_type": "execute_result",
          "data": {
            "text/plain": [
              "True"
            ]
          },
          "metadata": {},
          "execution_count": 32
        }
      ]
    },
    {
      "cell_type": "markdown",
      "source": [
        "# Q23.  Write a code to create a set with the elements 1, 2, 3, 4, 5 and print it."
      ],
      "metadata": {
        "id": "0FJAQsaDaLBo"
      }
    },
    {
      "cell_type": "code",
      "source": [
        "a={1,2,3,4,5}\n",
        "print(a); type(a)"
      ],
      "metadata": {
        "colab": {
          "base_uri": "https://localhost:8080/"
        },
        "id": "ixPlDeBiaQ8w",
        "outputId": "f5d1794c-cbf6-4d7d-b7de-58371ac1f27e"
      },
      "execution_count": 33,
      "outputs": [
        {
          "output_type": "stream",
          "name": "stdout",
          "text": [
            "{1, 2, 3, 4, 5}\n"
          ]
        },
        {
          "output_type": "execute_result",
          "data": {
            "text/plain": [
              "set"
            ]
          },
          "metadata": {},
          "execution_count": 33
        }
      ]
    },
    {
      "cell_type": "markdown",
      "source": [
        "# Q24. Write a code to add the element 6 to the set {1, 2, 3, 4}."
      ],
      "metadata": {
        "id": "tFb8MaXGacfl"
      }
    },
    {
      "cell_type": "code",
      "source": [
        "my_code= {1,2,3,4}\n",
        "my_code.add(6)\n",
        "print(my_code); type(my_code)"
      ],
      "metadata": {
        "colab": {
          "base_uri": "https://localhost:8080/"
        },
        "id": "7TZUUqzaag1U",
        "outputId": "f5f12a48-f442-4b9c-843d-77900913f98f"
      },
      "execution_count": 35,
      "outputs": [
        {
          "output_type": "stream",
          "name": "stdout",
          "text": [
            "{1, 2, 3, 4, 6}\n"
          ]
        },
        {
          "output_type": "execute_result",
          "data": {
            "text/plain": [
              "set"
            ]
          },
          "metadata": {},
          "execution_count": 35
        }
      ]
    }
  ]
}